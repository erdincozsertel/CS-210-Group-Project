{
 "cells": [
  {
   "cell_type": "code",
   "execution_count": 1,
   "metadata": {},
   "outputs": [],
   "source": [
    "import pandas as pd\n",
    "import numpy as np\n",
    "import matplotlib.pyplot as plt\n",
    "import seaborn as sns\n",
    "from scipy import stats\n",
    "\n",
    "from os.path import join\n",
    "\n",
    "sns.set_style(\"darkgrid\")\n",
    "\n",
    "import warnings \n",
    "warnings.simplefilter('ignore')\n",
    "\n",
    "%matplotlib inline"
   ]
  },
  {
   "cell_type": "markdown",
   "metadata": {},
   "source": [
    "## Hypotesis Testing"
   ]
  },
  {
   "cell_type": "code",
   "execution_count": 2,
   "metadata": {},
   "outputs": [],
   "source": [
    "filename = \"craigkelly-steam-game-data-hyp.csv\"\n",
    "\n",
    "df = pd.read_csv(join(filename))"
   ]
  },
  {
   "cell_type": "code",
   "execution_count": 3,
   "metadata": {},
   "outputs": [],
   "source": [
    "df.dropna(axis=0, how='any', thresh=None, subset=None, inplace=True)"
   ]
  },
  {
   "cell_type": "code",
   "execution_count": 4,
   "metadata": {},
   "outputs": [],
   "source": [
    "df = df.drop([\"QueryID\",\"ResponseID\",\"ResponseName\",\"RecommendationCount\"], axis = 1)\n"
   ]
  },
  {
   "cell_type": "code",
   "execution_count": 5,
   "metadata": {},
   "outputs": [
    {
     "data": {
      "text/html": [
       "<div>\n",
       "<style scoped>\n",
       "    .dataframe tbody tr th:only-of-type {\n",
       "        vertical-align: middle;\n",
       "    }\n",
       "\n",
       "    .dataframe tbody tr th {\n",
       "        vertical-align: top;\n",
       "    }\n",
       "\n",
       "    .dataframe thead th {\n",
       "        text-align: right;\n",
       "    }\n",
       "</style>\n",
       "<table border=\"1\" class=\"dataframe\">\n",
       "  <thead>\n",
       "    <tr style=\"text-align: right;\">\n",
       "      <th></th>\n",
       "      <th>Metacritic</th>\n",
       "      <th>SteamSpyOwners</th>\n",
       "    </tr>\n",
       "  </thead>\n",
       "  <tbody>\n",
       "    <tr>\n",
       "      <th>0</th>\n",
       "      <td>88.0</td>\n",
       "      <td>13033334.0</td>\n",
       "    </tr>\n",
       "    <tr>\n",
       "      <th>2</th>\n",
       "      <td>79.0</td>\n",
       "      <td>7621102.0</td>\n",
       "    </tr>\n",
       "    <tr>\n",
       "      <th>3</th>\n",
       "      <td>96.0</td>\n",
       "      <td>5927504.0</td>\n",
       "    </tr>\n",
       "    <tr>\n",
       "      <th>4</th>\n",
       "      <td>65.0</td>\n",
       "      <td>10489261.0</td>\n",
       "    </tr>\n",
       "    <tr>\n",
       "      <th>5</th>\n",
       "      <td>71.0</td>\n",
       "      <td>5368650.0</td>\n",
       "    </tr>\n",
       "  </tbody>\n",
       "</table>\n",
       "</div>"
      ],
      "text/plain": [
       "   Metacritic  SteamSpyOwners\n",
       "0        88.0      13033334.0\n",
       "2        79.0       7621102.0\n",
       "3        96.0       5927504.0\n",
       "4        65.0      10489261.0\n",
       "5        71.0       5368650.0"
      ]
     },
     "execution_count": 5,
     "metadata": {},
     "output_type": "execute_result"
    }
   ],
   "source": [
    "df.head()"
   ]
  },
  {
   "cell_type": "code",
   "execution_count": 6,
   "metadata": {},
   "outputs": [],
   "source": [
    "test_type = \"SteamSpyOwners\"\n",
    "\n",
    "metacriticS = df[df[\"Metacritic\"] > 50][test_type]\n",
    "metacriticL = df[df[\"Metacritic\"] < 50][test_type]"
   ]
  },
  {
   "cell_type": "markdown",
   "metadata": {},
   "source": [
    "To test our  hypothesis, we divide our data to 2 which are Games that their Metacritic Score is greater than 50 and lower than 50."
   ]
  },
  {
   "cell_type": "markdown",
   "metadata": {},
   "source": [
    "To prove our  hypothesis , we choose <strong>Alternative Hypothesis</strong>\n",
    "\n",
    "\n",
    "<p>So our  hypothesis  become<strong> \" Metacritic Score of a game does not effects number of sales.\"</strong>.</p>\n"
   ]
  },
  {
   "cell_type": "markdown",
   "metadata": {},
   "source": [
    "<!-- wp:paragraph -->\n",
    "<p>So we do the <strong>t-test</strong>, and the results are:</p>\n",
    "<!-- /wp:paragraph -->"
   ]
  },
  {
   "cell_type": "code",
   "execution_count": 7,
   "metadata": {},
   "outputs": [
    {
     "data": {
      "text/plain": [
       "Ttest_indResult(statistic=7.631852493989717, pvalue=6.090947749875793e-14)"
      ]
     },
     "execution_count": 7,
     "metadata": {},
     "output_type": "execute_result"
    }
   ],
   "source": [
    "stats.ttest_ind(metacriticS,metacriticL, equal_var=False) "
   ]
  },
  {
   "cell_type": "markdown",
   "metadata": {},
   "source": [
    "## Classification with Decision Tree :"
   ]
  },
  {
   "cell_type": "markdown",
   "metadata": {},
   "source": [
    "Since classification works for specified values like true or false we used this techniques Decision tree implementation to predict is a game is Multiplayer or not Multiplayer."
   ]
  },
  {
   "cell_type": "code",
   "execution_count": 8,
   "metadata": {},
   "outputs": [],
   "source": [
    "filename = \"craigkelly-steam-game-data-for-mch4.csv\"\n",
    "dftest2 = pd.read_csv('craigkelly-steam-game-data-for-mch4.csv')"
   ]
  },
  {
   "cell_type": "code",
   "execution_count": 9,
   "metadata": {},
   "outputs": [],
   "source": [
    "dftest2=dftest2.drop(['QueryName',\"QueryID\",\"ResponseID\",\"ResponseName\",\"ReleaseDate\",\"GenreIsEarlyAccess\",\"ControllerSupport\",\"IsFree\",\"CategorySinglePlayer\",\"CategoryMMO\",\"CategoryInAppPurchase\",\"GenreIsSimulation\",\"GenreIsFreeToPlay\",\"GenreIsSports\",\"GenreIsRacing\",\"RequiredAge\"], axis = 1)"
   ]
  },
  {
   "cell_type": "code",
   "execution_count": 10,
   "metadata": {},
   "outputs": [
    {
     "data": {
      "text/html": [
       "<div>\n",
       "<style scoped>\n",
       "    .dataframe tbody tr th:only-of-type {\n",
       "        vertical-align: middle;\n",
       "    }\n",
       "\n",
       "    .dataframe tbody tr th {\n",
       "        vertical-align: top;\n",
       "    }\n",
       "\n",
       "    .dataframe thead th {\n",
       "        text-align: right;\n",
       "    }\n",
       "</style>\n",
       "<table border=\"1\" class=\"dataframe\">\n",
       "  <thead>\n",
       "    <tr style=\"text-align: right;\">\n",
       "      <th></th>\n",
       "      <th>Metacritic</th>\n",
       "      <th>RecommendationCount</th>\n",
       "      <th>ScreenshotCount</th>\n",
       "      <th>SteamSpyOwners</th>\n",
       "      <th>AchievementCount</th>\n",
       "      <th>PlatformLinux</th>\n",
       "      <th>PlatformMac</th>\n",
       "      <th>CategoryMultiplayer</th>\n",
       "      <th>CategoryCoop</th>\n",
       "      <th>GenreIsIndie</th>\n",
       "      <th>GenreIsAction</th>\n",
       "      <th>GenreIsAdventure</th>\n",
       "      <th>GenreIsCasual</th>\n",
       "      <th>GenreIsStrategy</th>\n",
       "      <th>GenreIsRPG</th>\n",
       "      <th>GenreIsMassivelyMultiplayer</th>\n",
       "      <th>PriceInitial</th>\n",
       "      <th>Outcome</th>\n",
       "    </tr>\n",
       "  </thead>\n",
       "  <tbody>\n",
       "    <tr>\n",
       "      <th>0</th>\n",
       "      <td>88</td>\n",
       "      <td>68991</td>\n",
       "      <td>13</td>\n",
       "      <td>13033334</td>\n",
       "      <td>0</td>\n",
       "      <td>1</td>\n",
       "      <td>1</td>\n",
       "      <td>1</td>\n",
       "      <td>0</td>\n",
       "      <td>0</td>\n",
       "      <td>1</td>\n",
       "      <td>0</td>\n",
       "      <td>0</td>\n",
       "      <td>0</td>\n",
       "      <td>0</td>\n",
       "      <td>0</td>\n",
       "      <td>9.99</td>\n",
       "      <td>1</td>\n",
       "    </tr>\n",
       "    <tr>\n",
       "      <th>1</th>\n",
       "      <td>79</td>\n",
       "      <td>2319</td>\n",
       "      <td>5</td>\n",
       "      <td>7621102</td>\n",
       "      <td>0</td>\n",
       "      <td>1</td>\n",
       "      <td>1</td>\n",
       "      <td>1</td>\n",
       "      <td>0</td>\n",
       "      <td>0</td>\n",
       "      <td>1</td>\n",
       "      <td>0</td>\n",
       "      <td>0</td>\n",
       "      <td>0</td>\n",
       "      <td>0</td>\n",
       "      <td>0</td>\n",
       "      <td>4.99</td>\n",
       "      <td>1</td>\n",
       "    </tr>\n",
       "    <tr>\n",
       "      <th>2</th>\n",
       "      <td>96</td>\n",
       "      <td>12486</td>\n",
       "      <td>11</td>\n",
       "      <td>5927504</td>\n",
       "      <td>0</td>\n",
       "      <td>1</td>\n",
       "      <td>1</td>\n",
       "      <td>1</td>\n",
       "      <td>0</td>\n",
       "      <td>0</td>\n",
       "      <td>1</td>\n",
       "      <td>0</td>\n",
       "      <td>0</td>\n",
       "      <td>0</td>\n",
       "      <td>0</td>\n",
       "      <td>0</td>\n",
       "      <td>9.99</td>\n",
       "      <td>1</td>\n",
       "    </tr>\n",
       "    <tr>\n",
       "      <th>3</th>\n",
       "      <td>65</td>\n",
       "      <td>7067</td>\n",
       "      <td>8</td>\n",
       "      <td>10489261</td>\n",
       "      <td>0</td>\n",
       "      <td>1</td>\n",
       "      <td>1</td>\n",
       "      <td>1</td>\n",
       "      <td>0</td>\n",
       "      <td>0</td>\n",
       "      <td>1</td>\n",
       "      <td>0</td>\n",
       "      <td>0</td>\n",
       "      <td>0</td>\n",
       "      <td>0</td>\n",
       "      <td>0</td>\n",
       "      <td>9.99</td>\n",
       "      <td>1</td>\n",
       "    </tr>\n",
       "    <tr>\n",
       "      <th>4</th>\n",
       "      <td>71</td>\n",
       "      <td>2219</td>\n",
       "      <td>5</td>\n",
       "      <td>5368650</td>\n",
       "      <td>0</td>\n",
       "      <td>1</td>\n",
       "      <td>1</td>\n",
       "      <td>0</td>\n",
       "      <td>0</td>\n",
       "      <td>0</td>\n",
       "      <td>1</td>\n",
       "      <td>0</td>\n",
       "      <td>0</td>\n",
       "      <td>0</td>\n",
       "      <td>0</td>\n",
       "      <td>0</td>\n",
       "      <td>4.99</td>\n",
       "      <td>1</td>\n",
       "    </tr>\n",
       "  </tbody>\n",
       "</table>\n",
       "</div>"
      ],
      "text/plain": [
       "   Metacritic  RecommendationCount  ScreenshotCount  SteamSpyOwners  \\\n",
       "0          88                68991               13        13033334   \n",
       "1          79                 2319                5         7621102   \n",
       "2          96                12486               11         5927504   \n",
       "3          65                 7067                8        10489261   \n",
       "4          71                 2219                5         5368650   \n",
       "\n",
       "   AchievementCount  PlatformLinux  PlatformMac  CategoryMultiplayer  \\\n",
       "0                 0              1            1                    1   \n",
       "1                 0              1            1                    1   \n",
       "2                 0              1            1                    1   \n",
       "3                 0              1            1                    1   \n",
       "4                 0              1            1                    0   \n",
       "\n",
       "   CategoryCoop  GenreIsIndie  GenreIsAction  GenreIsAdventure  GenreIsCasual  \\\n",
       "0             0             0              1                 0              0   \n",
       "1             0             0              1                 0              0   \n",
       "2             0             0              1                 0              0   \n",
       "3             0             0              1                 0              0   \n",
       "4             0             0              1                 0              0   \n",
       "\n",
       "   GenreIsStrategy  GenreIsRPG  GenreIsMassivelyMultiplayer   PriceInitial   \\\n",
       "0                0           0                            0            9.99   \n",
       "1                0           0                            0            4.99   \n",
       "2                0           0                            0            9.99   \n",
       "3                0           0                            0            9.99   \n",
       "4                0           0                            0            4.99   \n",
       "\n",
       "   Outcome  \n",
       "0        1  \n",
       "1        1  \n",
       "2        1  \n",
       "3        1  \n",
       "4        1  "
      ]
     },
     "execution_count": 10,
     "metadata": {},
     "output_type": "execute_result"
    }
   ],
   "source": [
    "dftest2.head()"
   ]
  },
  {
   "cell_type": "code",
   "execution_count": 11,
   "metadata": {},
   "outputs": [],
   "source": [
    "X6 = dftest2.drop('CategoryMultiplayer', axis=1) # these are features\n",
    "y6 = dftest2['CategoryMultiplayer']"
   ]
  },
  {
   "cell_type": "code",
   "execution_count": 12,
   "metadata": {},
   "outputs": [],
   "source": [
    "from sklearn.model_selection import train_test_split\n"
   ]
  },
  {
   "cell_type": "markdown",
   "metadata": {},
   "source": [
    "First we train our model with %70 of our original data, then we put our model into the  Decision tree."
   ]
  },
  {
   "cell_type": "code",
   "execution_count": 13,
   "metadata": {},
   "outputs": [],
   "source": [
    "# This will create us train and test datasets from the original dataset that we have where\n",
    "# 70% of original dataframe will be train set and 30% of it will be test set to evaluate the Decision Tree\n",
    "X6_train, X6_test, y6_train, y6_test = train_test_split(X6, y6, random_state=42, test_size=0.30)\n",
    "from sklearn import tree\n"
   ]
  },
  {
   "cell_type": "code",
   "execution_count": 14,
   "metadata": {},
   "outputs": [
    {
     "data": {
      "text/plain": [
       "DecisionTreeClassifier(class_weight=None, criterion='gini', max_depth=None,\n",
       "            max_features=None, max_leaf_nodes=None,\n",
       "            min_impurity_decrease=0.0, min_impurity_split=None,\n",
       "            min_samples_leaf=1, min_samples_split=2,\n",
       "            min_weight_fraction_leaf=0.0, presort=False, random_state=None,\n",
       "            splitter='best')"
      ]
     },
     "execution_count": 14,
     "metadata": {},
     "output_type": "execute_result"
    }
   ],
   "source": [
    "model = tree.DecisionTreeClassifier()\n",
    "model.fit(X6_train, y6_train)"
   ]
  },
  {
   "cell_type": "code",
   "execution_count": 15,
   "metadata": {},
   "outputs": [],
   "source": [
    "y6_predict = model.predict(X6_test)"
   ]
  },
  {
   "cell_type": "code",
   "execution_count": 16,
   "metadata": {},
   "outputs": [],
   "source": [
    "from sklearn.metrics import accuracy_score"
   ]
  },
  {
   "cell_type": "markdown",
   "metadata": {},
   "source": [
    "After that, our accuracy score is:"
   ]
  },
  {
   "cell_type": "code",
   "execution_count": 17,
   "metadata": {},
   "outputs": [
    {
     "data": {
      "text/plain": [
       "0.7054409005628518"
      ]
     },
     "execution_count": 17,
     "metadata": {},
     "output_type": "execute_result"
    }
   ],
   "source": [
    "accuracy_score(y6_test, y6_predict)\n"
   ]
  },
  {
   "cell_type": "code",
   "execution_count": 18,
   "metadata": {},
   "outputs": [],
   "source": [
    "from sklearn.metrics import confusion_matrix\n"
   ]
  },
  {
   "cell_type": "code",
   "execution_count": 19,
   "metadata": {},
   "outputs": [
    {
     "data": {
      "text/plain": [
       "array([[247,  79],\n",
       "       [ 78, 129]], dtype=int64)"
      ]
     },
     "execution_count": 19,
     "metadata": {},
     "output_type": "execute_result"
    }
   ],
   "source": [
    "confusion_matrix(y6_test, y6_predict)"
   ]
  },
  {
   "cell_type": "markdown",
   "metadata": {},
   "source": [
    "And our confusion matrix is:"
   ]
  },
  {
   "cell_type": "code",
   "execution_count": 20,
   "metadata": {},
   "outputs": [
    {
     "data": {
      "text/html": [
       "<div>\n",
       "<style scoped>\n",
       "    .dataframe tbody tr th:only-of-type {\n",
       "        vertical-align: middle;\n",
       "    }\n",
       "\n",
       "    .dataframe tbody tr th {\n",
       "        vertical-align: top;\n",
       "    }\n",
       "\n",
       "    .dataframe thead th {\n",
       "        text-align: right;\n",
       "    }\n",
       "</style>\n",
       "<table border=\"1\" class=\"dataframe\">\n",
       "  <thead>\n",
       "    <tr style=\"text-align: right;\">\n",
       "      <th></th>\n",
       "      <th>Predicted Non Multiplayer</th>\n",
       "      <th>Predicted Multiplayer</th>\n",
       "    </tr>\n",
       "  </thead>\n",
       "  <tbody>\n",
       "    <tr>\n",
       "      <th>Real Not Multiplayer</th>\n",
       "      <td>247</td>\n",
       "      <td>79</td>\n",
       "    </tr>\n",
       "    <tr>\n",
       "      <th>Real Multiplayer</th>\n",
       "      <td>78</td>\n",
       "      <td>129</td>\n",
       "    </tr>\n",
       "  </tbody>\n",
       "</table>\n",
       "</div>"
      ],
      "text/plain": [
       "                      Predicted Non Multiplayer  Predicted Multiplayer\n",
       "Real Not Multiplayer                        247                     79\n",
       "Real Multiplayer                             78                    129"
      ]
     },
     "execution_count": 20,
     "metadata": {},
     "output_type": "execute_result"
    }
   ],
   "source": [
    "pd.DataFrame(\n",
    "    confusion_matrix(y6_test, y6_predict),\n",
    "    columns=['Predicted Non Multiplayer', 'Predicted Multiplayer'],\n",
    "    index=['Real Not Multiplayer', 'Real Multiplayer' ])"
   ]
  },
  {
   "cell_type": "markdown",
   "metadata": {},
   "source": [
    "## Classification with SVM:"
   ]
  },
  {
   "cell_type": "markdown",
   "metadata": {},
   "source": [
    "<p>For this technique, we will try to predict is a game is Successful or not. First is games that have <strong>Metacritic Score greater then 50</strong> which are  Successful, other group is games that have <strong>Metacritic Score</strong> <strong> lower then 50</strong> which are Unsuccessful. </p>"
   ]
  },
  {
   "cell_type": "code",
   "execution_count": 21,
   "metadata": {},
   "outputs": [],
   "source": [
    "filename = \"craigkelly-steam-game-data-for-mch3.csv\"\n",
    "df5 = pd.read_csv('craigkelly-steam-game-data-for-mch3.csv')"
   ]
  },
  {
   "cell_type": "code",
   "execution_count": 22,
   "metadata": {},
   "outputs": [],
   "source": [
    "df5 = df5.drop([\"QueryID\",\"ResponseID\",\"QueryName\",\"ResponseName\",\"ReleaseDate\",\"Metacritic\"], axis = 1)\n",
    "\n"
   ]
  },
  {
   "cell_type": "code",
   "execution_count": 23,
   "metadata": {},
   "outputs": [
    {
     "data": {
      "text/html": [
       "<div>\n",
       "<style scoped>\n",
       "    .dataframe tbody tr th:only-of-type {\n",
       "        vertical-align: middle;\n",
       "    }\n",
       "\n",
       "    .dataframe tbody tr th {\n",
       "        vertical-align: top;\n",
       "    }\n",
       "\n",
       "    .dataframe thead th {\n",
       "        text-align: right;\n",
       "    }\n",
       "</style>\n",
       "<table border=\"1\" class=\"dataframe\">\n",
       "  <thead>\n",
       "    <tr style=\"text-align: right;\">\n",
       "      <th></th>\n",
       "      <th>RecommendationCount</th>\n",
       "      <th>ScreenshotCount</th>\n",
       "      <th>SteamSpyOwners</th>\n",
       "      <th>AchievementCount</th>\n",
       "      <th>PriceInitial</th>\n",
       "      <th>Outcome</th>\n",
       "    </tr>\n",
       "  </thead>\n",
       "  <tbody>\n",
       "    <tr>\n",
       "      <th>0</th>\n",
       "      <td>68991</td>\n",
       "      <td>13</td>\n",
       "      <td>13033334</td>\n",
       "      <td>0</td>\n",
       "      <td>9.99</td>\n",
       "      <td>1</td>\n",
       "    </tr>\n",
       "    <tr>\n",
       "      <th>1</th>\n",
       "      <td>2319</td>\n",
       "      <td>5</td>\n",
       "      <td>7621102</td>\n",
       "      <td>0</td>\n",
       "      <td>4.99</td>\n",
       "      <td>1</td>\n",
       "    </tr>\n",
       "    <tr>\n",
       "      <th>2</th>\n",
       "      <td>12486</td>\n",
       "      <td>11</td>\n",
       "      <td>5927504</td>\n",
       "      <td>0</td>\n",
       "      <td>9.99</td>\n",
       "      <td>1</td>\n",
       "    </tr>\n",
       "    <tr>\n",
       "      <th>3</th>\n",
       "      <td>7067</td>\n",
       "      <td>8</td>\n",
       "      <td>10489261</td>\n",
       "      <td>0</td>\n",
       "      <td>9.99</td>\n",
       "      <td>1</td>\n",
       "    </tr>\n",
       "    <tr>\n",
       "      <th>4</th>\n",
       "      <td>2219</td>\n",
       "      <td>5</td>\n",
       "      <td>5368650</td>\n",
       "      <td>0</td>\n",
       "      <td>4.99</td>\n",
       "      <td>1</td>\n",
       "    </tr>\n",
       "  </tbody>\n",
       "</table>\n",
       "</div>"
      ],
      "text/plain": [
       "   RecommendationCount  ScreenshotCount  SteamSpyOwners  AchievementCount  \\\n",
       "0                68991               13        13033334                 0   \n",
       "1                 2319                5         7621102                 0   \n",
       "2                12486               11         5927504                 0   \n",
       "3                 7067                8        10489261                 0   \n",
       "4                 2219                5         5368650                 0   \n",
       "\n",
       "    PriceInitial   Outcome  \n",
       "0            9.99        1  \n",
       "1            4.99        1  \n",
       "2            9.99        1  \n",
       "3            9.99        1  \n",
       "4            4.99        1  "
      ]
     },
     "execution_count": 23,
     "metadata": {},
     "output_type": "execute_result"
    }
   ],
   "source": [
    "df5.head()"
   ]
  },
  {
   "cell_type": "code",
   "execution_count": 24,
   "metadata": {},
   "outputs": [],
   "source": [
    "features5 = df5.drop([\"Outcome\"], axis=1).values\n",
    "target5 = df5[\"Outcome\"]"
   ]
  },
  {
   "cell_type": "code",
   "execution_count": 25,
   "metadata": {},
   "outputs": [],
   "source": [
    "from sklearn.svm import SVC\n",
    "from sklearn.metrics import accuracy_score, f1_score\n",
    "from sklearn.model_selection import train_test_split"
   ]
  },
  {
   "cell_type": "code",
   "execution_count": 26,
   "metadata": {},
   "outputs": [],
   "source": [
    "#train-test split for the dataset\n",
    "X5_train, X5_test, y5_train, y5_test = train_test_split(features5, target5, test_size=0.33, random_state=42)"
   ]
  },
  {
   "cell_type": "code",
   "execution_count": 27,
   "metadata": {},
   "outputs": [],
   "source": [
    "clf = SVC(kernel=\"rbf\")"
   ]
  },
  {
   "cell_type": "code",
   "execution_count": 28,
   "metadata": {},
   "outputs": [
    {
     "data": {
      "text/plain": [
       "SVC(C=1.0, cache_size=200, class_weight=None, coef0=0.0,\n",
       "  decision_function_shape='ovr', degree=3, gamma='auto_deprecated',\n",
       "  kernel='rbf', max_iter=-1, probability=False, random_state=None,\n",
       "  shrinking=True, tol=0.001, verbose=False)"
      ]
     },
     "execution_count": 28,
     "metadata": {},
     "output_type": "execute_result"
    }
   ],
   "source": [
    "clf.fit(X5_train, y5_train)\n"
   ]
  },
  {
   "cell_type": "code",
   "execution_count": 29,
   "metadata": {},
   "outputs": [],
   "source": [
    "y5_pred = clf.predict(X5_test)\n"
   ]
  },
  {
   "cell_type": "markdown",
   "metadata": {},
   "source": [
    "When we train our data, our  accuracy score is: "
   ]
  },
  {
   "cell_type": "code",
   "execution_count": 30,
   "metadata": {},
   "outputs": [
    {
     "data": {
      "text/plain": [
       "0.9590443686006825"
      ]
     },
     "execution_count": 30,
     "metadata": {},
     "output_type": "execute_result"
    }
   ],
   "source": [
    "accuracy_score(y5_test, y5_pred)\n"
   ]
  },
  {
   "cell_type": "markdown",
   "metadata": {},
   "source": [
    "## Regression with Decision Tree :"
   ]
  },
  {
   "cell_type": "markdown",
   "metadata": {},
   "source": [
    "Regression can work on large data range and can predict continuous responses such as Recommendation Count of a game."
   ]
  },
  {
   "cell_type": "code",
   "execution_count": 31,
   "metadata": {},
   "outputs": [],
   "source": [
    "filename = \"craigkelly-steam-game-data-for-mch2.csv\"\n",
    "df2 = pd.read_csv('craigkelly-steam-game-data-for-mch2.csv')"
   ]
  },
  {
   "cell_type": "code",
   "execution_count": 32,
   "metadata": {},
   "outputs": [],
   "source": [
    "df2 = df2.drop([\"QueryID\",\"ResponseID\",\"QueryName\",\"ResponseName\",\"ReleaseDate\",\"GenreIsEarlyAccess\",\"ControllerSupport\",\"IsFree\",\"CategorySinglePlayer\",\"CategoryMMO\",\"CategoryInAppPurchase\",\"GenreIsSimulation\",\"GenreIsFreeToPlay\",\"GenreIsSports\",\"GenreIsRacing\",\"GenreIsMassivelyMultiplayer\"], axis = 1)\n"
   ]
  },
  {
   "cell_type": "code",
   "execution_count": 33,
   "metadata": {},
   "outputs": [
    {
     "data": {
      "text/html": [
       "<div>\n",
       "<style scoped>\n",
       "    .dataframe tbody tr th:only-of-type {\n",
       "        vertical-align: middle;\n",
       "    }\n",
       "\n",
       "    .dataframe tbody tr th {\n",
       "        vertical-align: top;\n",
       "    }\n",
       "\n",
       "    .dataframe thead th {\n",
       "        text-align: right;\n",
       "    }\n",
       "</style>\n",
       "<table border=\"1\" class=\"dataframe\">\n",
       "  <thead>\n",
       "    <tr style=\"text-align: right;\">\n",
       "      <th></th>\n",
       "      <th>RequiredAge</th>\n",
       "      <th>Metacritic</th>\n",
       "      <th>RecommendationCount</th>\n",
       "      <th>ScreenshotCount</th>\n",
       "      <th>SteamSpyOwners</th>\n",
       "      <th>AchievementCount</th>\n",
       "      <th>PlatformLinux</th>\n",
       "      <th>PlatformMac</th>\n",
       "      <th>CategoryMultiplayer</th>\n",
       "      <th>CategoryCoop</th>\n",
       "      <th>GenreIsIndie</th>\n",
       "      <th>GenreIsAction</th>\n",
       "      <th>GenreIsAdventure</th>\n",
       "      <th>GenreIsCasual</th>\n",
       "      <th>GenreIsStrategy</th>\n",
       "      <th>GenreIsRPG</th>\n",
       "      <th>PriceInitial</th>\n",
       "    </tr>\n",
       "  </thead>\n",
       "  <tbody>\n",
       "    <tr>\n",
       "      <th>0</th>\n",
       "      <td>0</td>\n",
       "      <td>88</td>\n",
       "      <td>68991</td>\n",
       "      <td>13</td>\n",
       "      <td>13033334</td>\n",
       "      <td>0</td>\n",
       "      <td>1</td>\n",
       "      <td>1</td>\n",
       "      <td>1</td>\n",
       "      <td>0</td>\n",
       "      <td>0</td>\n",
       "      <td>1</td>\n",
       "      <td>0</td>\n",
       "      <td>0</td>\n",
       "      <td>0</td>\n",
       "      <td>0</td>\n",
       "      <td>9.99</td>\n",
       "    </tr>\n",
       "    <tr>\n",
       "      <th>1</th>\n",
       "      <td>0</td>\n",
       "      <td>79</td>\n",
       "      <td>2319</td>\n",
       "      <td>5</td>\n",
       "      <td>7621102</td>\n",
       "      <td>0</td>\n",
       "      <td>1</td>\n",
       "      <td>1</td>\n",
       "      <td>1</td>\n",
       "      <td>0</td>\n",
       "      <td>0</td>\n",
       "      <td>1</td>\n",
       "      <td>0</td>\n",
       "      <td>0</td>\n",
       "      <td>0</td>\n",
       "      <td>0</td>\n",
       "      <td>4.99</td>\n",
       "    </tr>\n",
       "    <tr>\n",
       "      <th>2</th>\n",
       "      <td>0</td>\n",
       "      <td>96</td>\n",
       "      <td>12486</td>\n",
       "      <td>11</td>\n",
       "      <td>5927504</td>\n",
       "      <td>0</td>\n",
       "      <td>1</td>\n",
       "      <td>1</td>\n",
       "      <td>1</td>\n",
       "      <td>0</td>\n",
       "      <td>0</td>\n",
       "      <td>1</td>\n",
       "      <td>0</td>\n",
       "      <td>0</td>\n",
       "      <td>0</td>\n",
       "      <td>0</td>\n",
       "      <td>9.99</td>\n",
       "    </tr>\n",
       "    <tr>\n",
       "      <th>3</th>\n",
       "      <td>0</td>\n",
       "      <td>65</td>\n",
       "      <td>7067</td>\n",
       "      <td>8</td>\n",
       "      <td>10489261</td>\n",
       "      <td>0</td>\n",
       "      <td>1</td>\n",
       "      <td>1</td>\n",
       "      <td>1</td>\n",
       "      <td>0</td>\n",
       "      <td>0</td>\n",
       "      <td>1</td>\n",
       "      <td>0</td>\n",
       "      <td>0</td>\n",
       "      <td>0</td>\n",
       "      <td>0</td>\n",
       "      <td>9.99</td>\n",
       "    </tr>\n",
       "    <tr>\n",
       "      <th>4</th>\n",
       "      <td>0</td>\n",
       "      <td>71</td>\n",
       "      <td>2219</td>\n",
       "      <td>5</td>\n",
       "      <td>5368650</td>\n",
       "      <td>0</td>\n",
       "      <td>1</td>\n",
       "      <td>1</td>\n",
       "      <td>0</td>\n",
       "      <td>0</td>\n",
       "      <td>0</td>\n",
       "      <td>1</td>\n",
       "      <td>0</td>\n",
       "      <td>0</td>\n",
       "      <td>0</td>\n",
       "      <td>0</td>\n",
       "      <td>4.99</td>\n",
       "    </tr>\n",
       "  </tbody>\n",
       "</table>\n",
       "</div>"
      ],
      "text/plain": [
       "   RequiredAge  Metacritic  RecommendationCount  ScreenshotCount  \\\n",
       "0            0          88                68991               13   \n",
       "1            0          79                 2319                5   \n",
       "2            0          96                12486               11   \n",
       "3            0          65                 7067                8   \n",
       "4            0          71                 2219                5   \n",
       "\n",
       "   SteamSpyOwners  AchievementCount  PlatformLinux  PlatformMac  \\\n",
       "0        13033334                 0              1            1   \n",
       "1         7621102                 0              1            1   \n",
       "2         5927504                 0              1            1   \n",
       "3        10489261                 0              1            1   \n",
       "4         5368650                 0              1            1   \n",
       "\n",
       "   CategoryMultiplayer  CategoryCoop  GenreIsIndie  GenreIsAction  \\\n",
       "0                    1             0             0              1   \n",
       "1                    1             0             0              1   \n",
       "2                    1             0             0              1   \n",
       "3                    1             0             0              1   \n",
       "4                    0             0             0              1   \n",
       "\n",
       "   GenreIsAdventure  GenreIsCasual  GenreIsStrategy  GenreIsRPG  \\\n",
       "0                 0              0                0           0   \n",
       "1                 0              0                0           0   \n",
       "2                 0              0                0           0   \n",
       "3                 0              0                0           0   \n",
       "4                 0              0                0           0   \n",
       "\n",
       "    PriceInitial   \n",
       "0            9.99  \n",
       "1            4.99  \n",
       "2            9.99  \n",
       "3            9.99  \n",
       "4            4.99  "
      ]
     },
     "execution_count": 33,
     "metadata": {},
     "output_type": "execute_result"
    }
   ],
   "source": [
    "df2.head()"
   ]
  },
  {
   "cell_type": "code",
   "execution_count": 34,
   "metadata": {},
   "outputs": [],
   "source": [
    "from sklearn.model_selection import train_test_split\n",
    "\n",
    "X2 = df2.drop('RecommendationCount', axis=1) # these are features\n",
    "y2 = df2['RecommendationCount']  "
   ]
  },
  {
   "cell_type": "code",
   "execution_count": 35,
   "metadata": {},
   "outputs": [],
   "source": [
    "# Creating train and test datasets with train_test_split function\n",
    "X2_train, X2_test, y2_train, y2_test = train_test_split(X2, y2, test_size=0.2, random_state=0) "
   ]
  },
  {
   "cell_type": "code",
   "execution_count": 36,
   "metadata": {},
   "outputs": [
    {
     "data": {
      "text/plain": [
       "DecisionTreeRegressor(criterion='mse', max_depth=None, max_features=None,\n",
       "           max_leaf_nodes=None, min_impurity_decrease=0.0,\n",
       "           min_impurity_split=None, min_samples_leaf=1,\n",
       "           min_samples_split=2, min_weight_fraction_leaf=0.0,\n",
       "           presort=False, random_state=None, splitter='best')"
      ]
     },
     "execution_count": 36,
     "metadata": {},
     "output_type": "execute_result"
    }
   ],
   "source": [
    "from sklearn.tree import DecisionTreeRegressor  \n",
    "\n",
    "regressor = DecisionTreeRegressor()  \n",
    "regressor.fit(X2_train, y2_train)  "
   ]
  },
  {
   "cell_type": "code",
   "execution_count": 37,
   "metadata": {},
   "outputs": [],
   "source": [
    "y2_pred = regressor.predict(X2_test)"
   ]
  },
  {
   "cell_type": "code",
   "execution_count": 38,
   "metadata": {},
   "outputs": [],
   "source": [
    "df_compare = pd.DataFrame({'Actual':y2_test, 'Predicted':y2_pred}) "
   ]
  },
  {
   "cell_type": "markdown",
   "metadata": {},
   "source": [
    "<!-- wp:paragraph -->\n",
    "<p>Regression can work on large data range and can predict continuous responses such as Recommendation Count of a game. Some of our predictions are:</p>\n",
    "<!-- /wp:paragraph -->"
   ]
  },
  {
   "cell_type": "code",
   "execution_count": 39,
   "metadata": {},
   "outputs": [
    {
     "data": {
      "text/html": [
       "<div>\n",
       "<style scoped>\n",
       "    .dataframe tbody tr th:only-of-type {\n",
       "        vertical-align: middle;\n",
       "    }\n",
       "\n",
       "    .dataframe tbody tr th {\n",
       "        vertical-align: top;\n",
       "    }\n",
       "\n",
       "    .dataframe thead th {\n",
       "        text-align: right;\n",
       "    }\n",
       "</style>\n",
       "<table border=\"1\" class=\"dataframe\">\n",
       "  <thead>\n",
       "    <tr style=\"text-align: right;\">\n",
       "      <th></th>\n",
       "      <th>Actual</th>\n",
       "      <th>Predicted</th>\n",
       "    </tr>\n",
       "  </thead>\n",
       "  <tbody>\n",
       "    <tr>\n",
       "      <th>1366</th>\n",
       "      <td>121</td>\n",
       "      <td>210.0</td>\n",
       "    </tr>\n",
       "    <tr>\n",
       "      <th>568</th>\n",
       "      <td>555</td>\n",
       "      <td>451.0</td>\n",
       "    </tr>\n",
       "    <tr>\n",
       "      <th>1686</th>\n",
       "      <td>810</td>\n",
       "      <td>251.0</td>\n",
       "    </tr>\n",
       "    <tr>\n",
       "      <th>1291</th>\n",
       "      <td>288</td>\n",
       "      <td>315.0</td>\n",
       "    </tr>\n",
       "    <tr>\n",
       "      <th>1364</th>\n",
       "      <td>234</td>\n",
       "      <td>166.0</td>\n",
       "    </tr>\n",
       "    <tr>\n",
       "      <th>1271</th>\n",
       "      <td>112</td>\n",
       "      <td>210.0</td>\n",
       "    </tr>\n",
       "    <tr>\n",
       "      <th>1148</th>\n",
       "      <td>1752</td>\n",
       "      <td>3393.0</td>\n",
       "    </tr>\n",
       "    <tr>\n",
       "      <th>575</th>\n",
       "      <td>511</td>\n",
       "      <td>3545.0</td>\n",
       "    </tr>\n",
       "    <tr>\n",
       "      <th>785</th>\n",
       "      <td>20533</td>\n",
       "      <td>20533.0</td>\n",
       "    </tr>\n",
       "    <tr>\n",
       "      <th>1452</th>\n",
       "      <td>130</td>\n",
       "      <td>450.0</td>\n",
       "    </tr>\n",
       "    <tr>\n",
       "      <th>722</th>\n",
       "      <td>202</td>\n",
       "      <td>1337.0</td>\n",
       "    </tr>\n",
       "    <tr>\n",
       "      <th>1398</th>\n",
       "      <td>184</td>\n",
       "      <td>124.0</td>\n",
       "    </tr>\n",
       "    <tr>\n",
       "      <th>704</th>\n",
       "      <td>3236</td>\n",
       "      <td>4468.0</td>\n",
       "    </tr>\n",
       "    <tr>\n",
       "      <th>1771</th>\n",
       "      <td>12451</td>\n",
       "      <td>5361.0</td>\n",
       "    </tr>\n",
       "    <tr>\n",
       "      <th>161</th>\n",
       "      <td>5972</td>\n",
       "      <td>1735.0</td>\n",
       "    </tr>\n",
       "    <tr>\n",
       "      <th>80</th>\n",
       "      <td>2212</td>\n",
       "      <td>5160.0</td>\n",
       "    </tr>\n",
       "    <tr>\n",
       "      <th>1474</th>\n",
       "      <td>275</td>\n",
       "      <td>1290.0</td>\n",
       "    </tr>\n",
       "    <tr>\n",
       "      <th>481</th>\n",
       "      <td>1545</td>\n",
       "      <td>499.0</td>\n",
       "    </tr>\n",
       "    <tr>\n",
       "      <th>943</th>\n",
       "      <td>916</td>\n",
       "      <td>1364.0</td>\n",
       "    </tr>\n",
       "    <tr>\n",
       "      <th>1458</th>\n",
       "      <td>1379</td>\n",
       "      <td>2281.0</td>\n",
       "    </tr>\n",
       "    <tr>\n",
       "      <th>262</th>\n",
       "      <td>5452</td>\n",
       "      <td>8242.0</td>\n",
       "    </tr>\n",
       "    <tr>\n",
       "      <th>906</th>\n",
       "      <td>997</td>\n",
       "      <td>134.0</td>\n",
       "    </tr>\n",
       "    <tr>\n",
       "      <th>1292</th>\n",
       "      <td>124</td>\n",
       "      <td>109.0</td>\n",
       "    </tr>\n",
       "    <tr>\n",
       "      <th>6</th>\n",
       "      <td>53931</td>\n",
       "      <td>97562.0</td>\n",
       "    </tr>\n",
       "    <tr>\n",
       "      <th>1047</th>\n",
       "      <td>2115</td>\n",
       "      <td>377.0</td>\n",
       "    </tr>\n",
       "    <tr>\n",
       "      <th>962</th>\n",
       "      <td>330</td>\n",
       "      <td>805.0</td>\n",
       "    </tr>\n",
       "    <tr>\n",
       "      <th>1553</th>\n",
       "      <td>4120</td>\n",
       "      <td>362.0</td>\n",
       "    </tr>\n",
       "    <tr>\n",
       "      <th>461</th>\n",
       "      <td>1677</td>\n",
       "      <td>1163.0</td>\n",
       "    </tr>\n",
       "    <tr>\n",
       "      <th>440</th>\n",
       "      <td>2748</td>\n",
       "      <td>5036.0</td>\n",
       "    </tr>\n",
       "    <tr>\n",
       "      <th>182</th>\n",
       "      <td>4866</td>\n",
       "      <td>7792.0</td>\n",
       "    </tr>\n",
       "    <tr>\n",
       "      <th>...</th>\n",
       "      <td>...</td>\n",
       "      <td>...</td>\n",
       "    </tr>\n",
       "    <tr>\n",
       "      <th>425</th>\n",
       "      <td>405</td>\n",
       "      <td>951.0</td>\n",
       "    </tr>\n",
       "    <tr>\n",
       "      <th>582</th>\n",
       "      <td>3970</td>\n",
       "      <td>1318.0</td>\n",
       "    </tr>\n",
       "    <tr>\n",
       "      <th>522</th>\n",
       "      <td>104</td>\n",
       "      <td>268.0</td>\n",
       "    </tr>\n",
       "    <tr>\n",
       "      <th>1089</th>\n",
       "      <td>1202</td>\n",
       "      <td>1022.0</td>\n",
       "    </tr>\n",
       "    <tr>\n",
       "      <th>171</th>\n",
       "      <td>109</td>\n",
       "      <td>157.0</td>\n",
       "    </tr>\n",
       "    <tr>\n",
       "      <th>342</th>\n",
       "      <td>104</td>\n",
       "      <td>190.0</td>\n",
       "    </tr>\n",
       "    <tr>\n",
       "      <th>986</th>\n",
       "      <td>10971</td>\n",
       "      <td>9380.0</td>\n",
       "    </tr>\n",
       "    <tr>\n",
       "      <th>270</th>\n",
       "      <td>25180</td>\n",
       "      <td>86362.0</td>\n",
       "    </tr>\n",
       "    <tr>\n",
       "      <th>227</th>\n",
       "      <td>485</td>\n",
       "      <td>555.0</td>\n",
       "    </tr>\n",
       "    <tr>\n",
       "      <th>1759</th>\n",
       "      <td>113</td>\n",
       "      <td>114.0</td>\n",
       "    </tr>\n",
       "    <tr>\n",
       "      <th>1439</th>\n",
       "      <td>215</td>\n",
       "      <td>136.0</td>\n",
       "    </tr>\n",
       "    <tr>\n",
       "      <th>565</th>\n",
       "      <td>222</td>\n",
       "      <td>321.0</td>\n",
       "    </tr>\n",
       "    <tr>\n",
       "      <th>1515</th>\n",
       "      <td>299</td>\n",
       "      <td>323.0</td>\n",
       "    </tr>\n",
       "    <tr>\n",
       "      <th>1280</th>\n",
       "      <td>3092</td>\n",
       "      <td>1799.0</td>\n",
       "    </tr>\n",
       "    <tr>\n",
       "      <th>485</th>\n",
       "      <td>921</td>\n",
       "      <td>3086.0</td>\n",
       "    </tr>\n",
       "    <tr>\n",
       "      <th>546</th>\n",
       "      <td>6855</td>\n",
       "      <td>10103.0</td>\n",
       "    </tr>\n",
       "    <tr>\n",
       "      <th>1081</th>\n",
       "      <td>2320</td>\n",
       "      <td>191.0</td>\n",
       "    </tr>\n",
       "    <tr>\n",
       "      <th>619</th>\n",
       "      <td>1358</td>\n",
       "      <td>1556.0</td>\n",
       "    </tr>\n",
       "    <tr>\n",
       "      <th>378</th>\n",
       "      <td>233</td>\n",
       "      <td>200.0</td>\n",
       "    </tr>\n",
       "    <tr>\n",
       "      <th>1663</th>\n",
       "      <td>1407</td>\n",
       "      <td>4024.0</td>\n",
       "    </tr>\n",
       "    <tr>\n",
       "      <th>1581</th>\n",
       "      <td>1676</td>\n",
       "      <td>1701.0</td>\n",
       "    </tr>\n",
       "    <tr>\n",
       "      <th>192</th>\n",
       "      <td>1450</td>\n",
       "      <td>515.0</td>\n",
       "    </tr>\n",
       "    <tr>\n",
       "      <th>260</th>\n",
       "      <td>132</td>\n",
       "      <td>157.0</td>\n",
       "    </tr>\n",
       "    <tr>\n",
       "      <th>965</th>\n",
       "      <td>2745</td>\n",
       "      <td>2214.0</td>\n",
       "    </tr>\n",
       "    <tr>\n",
       "      <th>1079</th>\n",
       "      <td>325</td>\n",
       "      <td>200.0</td>\n",
       "    </tr>\n",
       "    <tr>\n",
       "      <th>904</th>\n",
       "      <td>9269</td>\n",
       "      <td>15545.0</td>\n",
       "    </tr>\n",
       "    <tr>\n",
       "      <th>1702</th>\n",
       "      <td>281</td>\n",
       "      <td>117.0</td>\n",
       "    </tr>\n",
       "    <tr>\n",
       "      <th>308</th>\n",
       "      <td>162</td>\n",
       "      <td>726.0</td>\n",
       "    </tr>\n",
       "    <tr>\n",
       "      <th>491</th>\n",
       "      <td>353</td>\n",
       "      <td>176.0</td>\n",
       "    </tr>\n",
       "    <tr>\n",
       "      <th>1311</th>\n",
       "      <td>2021</td>\n",
       "      <td>2281.0</td>\n",
       "    </tr>\n",
       "  </tbody>\n",
       "</table>\n",
       "<p>355 rows × 2 columns</p>\n",
       "</div>"
      ],
      "text/plain": [
       "      Actual  Predicted\n",
       "1366     121      210.0\n",
       "568      555      451.0\n",
       "1686     810      251.0\n",
       "1291     288      315.0\n",
       "1364     234      166.0\n",
       "1271     112      210.0\n",
       "1148    1752     3393.0\n",
       "575      511     3545.0\n",
       "785    20533    20533.0\n",
       "1452     130      450.0\n",
       "722      202     1337.0\n",
       "1398     184      124.0\n",
       "704     3236     4468.0\n",
       "1771   12451     5361.0\n",
       "161     5972     1735.0\n",
       "80      2212     5160.0\n",
       "1474     275     1290.0\n",
       "481     1545      499.0\n",
       "943      916     1364.0\n",
       "1458    1379     2281.0\n",
       "262     5452     8242.0\n",
       "906      997      134.0\n",
       "1292     124      109.0\n",
       "6      53931    97562.0\n",
       "1047    2115      377.0\n",
       "962      330      805.0\n",
       "1553    4120      362.0\n",
       "461     1677     1163.0\n",
       "440     2748     5036.0\n",
       "182     4866     7792.0\n",
       "...      ...        ...\n",
       "425      405      951.0\n",
       "582     3970     1318.0\n",
       "522      104      268.0\n",
       "1089    1202     1022.0\n",
       "171      109      157.0\n",
       "342      104      190.0\n",
       "986    10971     9380.0\n",
       "270    25180    86362.0\n",
       "227      485      555.0\n",
       "1759     113      114.0\n",
       "1439     215      136.0\n",
       "565      222      321.0\n",
       "1515     299      323.0\n",
       "1280    3092     1799.0\n",
       "485      921     3086.0\n",
       "546     6855    10103.0\n",
       "1081    2320      191.0\n",
       "619     1358     1556.0\n",
       "378      233      200.0\n",
       "1663    1407     4024.0\n",
       "1581    1676     1701.0\n",
       "192     1450      515.0\n",
       "260      132      157.0\n",
       "965     2745     2214.0\n",
       "1079     325      200.0\n",
       "904     9269    15545.0\n",
       "1702     281      117.0\n",
       "308      162      726.0\n",
       "491      353      176.0\n",
       "1311    2021     2281.0\n",
       "\n",
       "[355 rows x 2 columns]"
      ]
     },
     "execution_count": 39,
     "metadata": {},
     "output_type": "execute_result"
    }
   ],
   "source": [
    "df_compare"
   ]
  },
  {
   "cell_type": "code",
   "execution_count": null,
   "metadata": {},
   "outputs": [],
   "source": []
  },
  {
   "cell_type": "markdown",
   "metadata": {},
   "source": [
    "# Rest of the code is for our Unsuccessful Attempts"
   ]
  },
  {
   "cell_type": "markdown",
   "metadata": {},
   "source": [
    "## Unsuccessful Clustering with K-means Attempt:"
   ]
  },
  {
   "cell_type": "code",
   "execution_count": 40,
   "metadata": {},
   "outputs": [],
   "source": [
    "import matplotlib.pyplot as plt\n",
    "import seaborn as sns\n",
    "from os.path import join\n",
    "import random\n",
    "from copy import deepcopy\n",
    "import matplotlib.lines as mlines\n",
    "\n",
    "# interactivity\n",
    "from ipywidgets import interact\n",
    "\n",
    "sns.set_style(\"darkgrid\")\n",
    "\n",
    "%matplotlib inline"
   ]
  },
  {
   "cell_type": "code",
   "execution_count": 41,
   "metadata": {},
   "outputs": [],
   "source": [
    "# importing Kmeans\n",
    "from sklearn.cluster import KMeans\n",
    "# finding the distances between centroid and data points\n",
    "from scipy.spatial import distance"
   ]
  },
  {
   "cell_type": "code",
   "execution_count": 42,
   "metadata": {},
   "outputs": [],
   "source": [
    "data15 = pd.read_csv('craigkelly-steam-game-data-for-mch3.csv')\n"
   ]
  },
  {
   "cell_type": "code",
   "execution_count": 43,
   "metadata": {},
   "outputs": [],
   "source": [
    "data16=data15"
   ]
  },
  {
   "cell_type": "code",
   "execution_count": 44,
   "metadata": {},
   "outputs": [
    {
     "data": {
      "text/html": [
       "<div>\n",
       "<style scoped>\n",
       "    .dataframe tbody tr th:only-of-type {\n",
       "        vertical-align: middle;\n",
       "    }\n",
       "\n",
       "    .dataframe tbody tr th {\n",
       "        vertical-align: top;\n",
       "    }\n",
       "\n",
       "    .dataframe thead th {\n",
       "        text-align: right;\n",
       "    }\n",
       "</style>\n",
       "<table border=\"1\" class=\"dataframe\">\n",
       "  <thead>\n",
       "    <tr style=\"text-align: right;\">\n",
       "      <th></th>\n",
       "      <th>QueryID</th>\n",
       "      <th>ResponseID</th>\n",
       "      <th>QueryName</th>\n",
       "      <th>ResponseName</th>\n",
       "      <th>ReleaseDate</th>\n",
       "      <th>Metacritic</th>\n",
       "      <th>RecommendationCount</th>\n",
       "      <th>ScreenshotCount</th>\n",
       "      <th>SteamSpyOwners</th>\n",
       "      <th>AchievementCount</th>\n",
       "      <th>PriceInitial</th>\n",
       "      <th>Outcome</th>\n",
       "    </tr>\n",
       "  </thead>\n",
       "  <tbody>\n",
       "    <tr>\n",
       "      <th>0</th>\n",
       "      <td>10</td>\n",
       "      <td>10</td>\n",
       "      <td>Counter-Strike</td>\n",
       "      <td>Counter-Strike</td>\n",
       "      <td>Nov 1 2000</td>\n",
       "      <td>88</td>\n",
       "      <td>68991</td>\n",
       "      <td>13</td>\n",
       "      <td>13033334</td>\n",
       "      <td>0</td>\n",
       "      <td>9.99</td>\n",
       "      <td>1</td>\n",
       "    </tr>\n",
       "    <tr>\n",
       "      <th>1</th>\n",
       "      <td>30</td>\n",
       "      <td>30</td>\n",
       "      <td>Day of Defeat</td>\n",
       "      <td>Day of Defeat</td>\n",
       "      <td>May 1 2003</td>\n",
       "      <td>79</td>\n",
       "      <td>2319</td>\n",
       "      <td>5</td>\n",
       "      <td>7621102</td>\n",
       "      <td>0</td>\n",
       "      <td>4.99</td>\n",
       "      <td>1</td>\n",
       "    </tr>\n",
       "    <tr>\n",
       "      <th>2</th>\n",
       "      <td>70</td>\n",
       "      <td>70</td>\n",
       "      <td>Half-Life</td>\n",
       "      <td>Half-Life</td>\n",
       "      <td>Nov 8 1998</td>\n",
       "      <td>96</td>\n",
       "      <td>12486</td>\n",
       "      <td>11</td>\n",
       "      <td>5927504</td>\n",
       "      <td>0</td>\n",
       "      <td>9.99</td>\n",
       "      <td>1</td>\n",
       "    </tr>\n",
       "    <tr>\n",
       "      <th>3</th>\n",
       "      <td>80</td>\n",
       "      <td>80</td>\n",
       "      <td>Counter-Strike: Condition Zero</td>\n",
       "      <td>Counter-Strike: Condition Zero</td>\n",
       "      <td>Mar 1 2004</td>\n",
       "      <td>65</td>\n",
       "      <td>7067</td>\n",
       "      <td>8</td>\n",
       "      <td>10489261</td>\n",
       "      <td>0</td>\n",
       "      <td>9.99</td>\n",
       "      <td>1</td>\n",
       "    </tr>\n",
       "    <tr>\n",
       "      <th>4</th>\n",
       "      <td>130</td>\n",
       "      <td>130</td>\n",
       "      <td>Half-Life: Blue Shift</td>\n",
       "      <td>Half-Life: Blue Shift</td>\n",
       "      <td>Jun 1 2001</td>\n",
       "      <td>71</td>\n",
       "      <td>2219</td>\n",
       "      <td>5</td>\n",
       "      <td>5368650</td>\n",
       "      <td>0</td>\n",
       "      <td>4.99</td>\n",
       "      <td>1</td>\n",
       "    </tr>\n",
       "  </tbody>\n",
       "</table>\n",
       "</div>"
      ],
      "text/plain": [
       "   QueryID  ResponseID                       QueryName  \\\n",
       "0       10          10                  Counter-Strike   \n",
       "1       30          30                   Day of Defeat   \n",
       "2       70          70                       Half-Life   \n",
       "3       80          80  Counter-Strike: Condition Zero   \n",
       "4      130         130           Half-Life: Blue Shift   \n",
       "\n",
       "                     ResponseName ReleaseDate  Metacritic  \\\n",
       "0                  Counter-Strike  Nov 1 2000          88   \n",
       "1                   Day of Defeat  May 1 2003          79   \n",
       "2                       Half-Life  Nov 8 1998          96   \n",
       "3  Counter-Strike: Condition Zero  Mar 1 2004          65   \n",
       "4           Half-Life: Blue Shift  Jun 1 2001          71   \n",
       "\n",
       "   RecommendationCount  ScreenshotCount  SteamSpyOwners  AchievementCount  \\\n",
       "0                68991               13        13033334                 0   \n",
       "1                 2319                5         7621102                 0   \n",
       "2                12486               11         5927504                 0   \n",
       "3                 7067                8        10489261                 0   \n",
       "4                 2219                5         5368650                 0   \n",
       "\n",
       "    PriceInitial   Outcome  \n",
       "0            9.99        1  \n",
       "1            4.99        1  \n",
       "2            9.99        1  \n",
       "3            9.99        1  \n",
       "4            4.99        1  "
      ]
     },
     "execution_count": 44,
     "metadata": {},
     "output_type": "execute_result"
    }
   ],
   "source": [
    "data15.head()"
   ]
  },
  {
   "cell_type": "code",
   "execution_count": 45,
   "metadata": {},
   "outputs": [
    {
     "data": {
      "text/html": [
       "<div>\n",
       "<style scoped>\n",
       "    .dataframe tbody tr th:only-of-type {\n",
       "        vertical-align: middle;\n",
       "    }\n",
       "\n",
       "    .dataframe tbody tr th {\n",
       "        vertical-align: top;\n",
       "    }\n",
       "\n",
       "    .dataframe thead th {\n",
       "        text-align: right;\n",
       "    }\n",
       "</style>\n",
       "<table border=\"1\" class=\"dataframe\">\n",
       "  <thead>\n",
       "    <tr style=\"text-align: right;\">\n",
       "      <th></th>\n",
       "      <th>Metacritic</th>\n",
       "      <th>SteamSpyOwners</th>\n",
       "    </tr>\n",
       "  </thead>\n",
       "  <tbody>\n",
       "    <tr>\n",
       "      <th>0</th>\n",
       "      <td>88</td>\n",
       "      <td>13033334</td>\n",
       "    </tr>\n",
       "    <tr>\n",
       "      <th>1</th>\n",
       "      <td>79</td>\n",
       "      <td>7621102</td>\n",
       "    </tr>\n",
       "    <tr>\n",
       "      <th>2</th>\n",
       "      <td>96</td>\n",
       "      <td>5927504</td>\n",
       "    </tr>\n",
       "    <tr>\n",
       "      <th>3</th>\n",
       "      <td>65</td>\n",
       "      <td>10489261</td>\n",
       "    </tr>\n",
       "    <tr>\n",
       "      <th>4</th>\n",
       "      <td>71</td>\n",
       "      <td>5368650</td>\n",
       "    </tr>\n",
       "    <tr>\n",
       "      <th>5</th>\n",
       "      <td>96</td>\n",
       "      <td>9901173</td>\n",
       "    </tr>\n",
       "    <tr>\n",
       "      <th>6</th>\n",
       "      <td>88</td>\n",
       "      <td>15433570</td>\n",
       "    </tr>\n",
       "    <tr>\n",
       "      <th>7</th>\n",
       "      <td>80</td>\n",
       "      <td>6400269</td>\n",
       "    </tr>\n",
       "    <tr>\n",
       "      <th>8</th>\n",
       "      <td>87</td>\n",
       "      <td>6298399</td>\n",
       "    </tr>\n",
       "    <tr>\n",
       "      <th>9</th>\n",
       "      <td>90</td>\n",
       "      <td>9795716</td>\n",
       "    </tr>\n",
       "    <tr>\n",
       "      <th>10</th>\n",
       "      <td>90</td>\n",
       "      <td>5735062</td>\n",
       "    </tr>\n",
       "    <tr>\n",
       "      <th>11</th>\n",
       "      <td>89</td>\n",
       "      <td>4473517</td>\n",
       "    </tr>\n",
       "    <tr>\n",
       "      <th>12</th>\n",
       "      <td>89</td>\n",
       "      <td>15574539</td>\n",
       "    </tr>\n",
       "    <tr>\n",
       "      <th>13</th>\n",
       "      <td>92</td>\n",
       "      <td>37878812</td>\n",
       "    </tr>\n",
       "    <tr>\n",
       "      <th>14</th>\n",
       "      <td>95</td>\n",
       "      <td>8741499</td>\n",
       "    </tr>\n",
       "    <tr>\n",
       "      <th>15</th>\n",
       "      <td>83</td>\n",
       "      <td>25833156</td>\n",
       "    </tr>\n",
       "    <tr>\n",
       "      <th>16</th>\n",
       "      <td>81</td>\n",
       "      <td>940689</td>\n",
       "    </tr>\n",
       "    <tr>\n",
       "      <th>17</th>\n",
       "      <td>72</td>\n",
       "      <td>3496958</td>\n",
       "    </tr>\n",
       "    <tr>\n",
       "      <th>18</th>\n",
       "      <td>75</td>\n",
       "      <td>219883</td>\n",
       "    </tr>\n",
       "    <tr>\n",
       "      <th>19</th>\n",
       "      <td>84</td>\n",
       "      <td>674354</td>\n",
       "    </tr>\n",
       "    <tr>\n",
       "      <th>20</th>\n",
       "      <td>75</td>\n",
       "      <td>728339</td>\n",
       "    </tr>\n",
       "    <tr>\n",
       "      <th>21</th>\n",
       "      <td>84</td>\n",
       "      <td>811736</td>\n",
       "    </tr>\n",
       "    <tr>\n",
       "      <th>22</th>\n",
       "      <td>76</td>\n",
       "      <td>619832</td>\n",
       "    </tr>\n",
       "    <tr>\n",
       "      <th>23</th>\n",
       "      <td>82</td>\n",
       "      <td>53087</td>\n",
       "    </tr>\n",
       "    <tr>\n",
       "      <th>24</th>\n",
       "      <td>80</td>\n",
       "      <td>106175</td>\n",
       "    </tr>\n",
       "    <tr>\n",
       "      <th>25</th>\n",
       "      <td>84</td>\n",
       "      <td>113708</td>\n",
       "    </tr>\n",
       "    <tr>\n",
       "      <th>26</th>\n",
       "      <td>56</td>\n",
       "      <td>43403</td>\n",
       "    </tr>\n",
       "    <tr>\n",
       "      <th>27</th>\n",
       "      <td>68</td>\n",
       "      <td>69408</td>\n",
       "    </tr>\n",
       "    <tr>\n",
       "      <th>28</th>\n",
       "      <td>77</td>\n",
       "      <td>119806</td>\n",
       "    </tr>\n",
       "    <tr>\n",
       "      <th>29</th>\n",
       "      <td>73</td>\n",
       "      <td>236024</td>\n",
       "    </tr>\n",
       "    <tr>\n",
       "      <th>...</th>\n",
       "      <td>...</td>\n",
       "      <td>...</td>\n",
       "    </tr>\n",
       "    <tr>\n",
       "      <th>1745</th>\n",
       "      <td>74</td>\n",
       "      <td>8609</td>\n",
       "    </tr>\n",
       "    <tr>\n",
       "      <th>1746</th>\n",
       "      <td>63</td>\n",
       "      <td>194774</td>\n",
       "    </tr>\n",
       "    <tr>\n",
       "      <th>1747</th>\n",
       "      <td>80</td>\n",
       "      <td>13989</td>\n",
       "    </tr>\n",
       "    <tr>\n",
       "      <th>1748</th>\n",
       "      <td>73</td>\n",
       "      <td>10044</td>\n",
       "    </tr>\n",
       "    <tr>\n",
       "      <th>1749</th>\n",
       "      <td>65</td>\n",
       "      <td>24571</td>\n",
       "    </tr>\n",
       "    <tr>\n",
       "      <th>1750</th>\n",
       "      <td>76</td>\n",
       "      <td>27979</td>\n",
       "    </tr>\n",
       "    <tr>\n",
       "      <th>1751</th>\n",
       "      <td>72</td>\n",
       "      <td>10402</td>\n",
       "    </tr>\n",
       "    <tr>\n",
       "      <th>1752</th>\n",
       "      <td>74</td>\n",
       "      <td>32642</td>\n",
       "    </tr>\n",
       "    <tr>\n",
       "      <th>1753</th>\n",
       "      <td>78</td>\n",
       "      <td>6457</td>\n",
       "    </tr>\n",
       "    <tr>\n",
       "      <th>1754</th>\n",
       "      <td>57</td>\n",
       "      <td>42685</td>\n",
       "    </tr>\n",
       "    <tr>\n",
       "      <th>1755</th>\n",
       "      <td>68</td>\n",
       "      <td>111735</td>\n",
       "    </tr>\n",
       "    <tr>\n",
       "      <th>1756</th>\n",
       "      <td>50</td>\n",
       "      <td>10761</td>\n",
       "    </tr>\n",
       "    <tr>\n",
       "      <th>1757</th>\n",
       "      <td>81</td>\n",
       "      <td>71202</td>\n",
       "    </tr>\n",
       "    <tr>\n",
       "      <th>1758</th>\n",
       "      <td>53</td>\n",
       "      <td>17756</td>\n",
       "    </tr>\n",
       "    <tr>\n",
       "      <th>1759</th>\n",
       "      <td>68</td>\n",
       "      <td>8250</td>\n",
       "    </tr>\n",
       "    <tr>\n",
       "      <th>1760</th>\n",
       "      <td>63</td>\n",
       "      <td>12375</td>\n",
       "    </tr>\n",
       "    <tr>\n",
       "      <th>1761</th>\n",
       "      <td>76</td>\n",
       "      <td>18114</td>\n",
       "    </tr>\n",
       "    <tr>\n",
       "      <th>1762</th>\n",
       "      <td>77</td>\n",
       "      <td>178991</td>\n",
       "    </tr>\n",
       "    <tr>\n",
       "      <th>1763</th>\n",
       "      <td>70</td>\n",
       "      <td>45734</td>\n",
       "    </tr>\n",
       "    <tr>\n",
       "      <th>1764</th>\n",
       "      <td>40</td>\n",
       "      <td>13272</td>\n",
       "    </tr>\n",
       "    <tr>\n",
       "      <th>1765</th>\n",
       "      <td>77</td>\n",
       "      <td>25288</td>\n",
       "    </tr>\n",
       "    <tr>\n",
       "      <th>1766</th>\n",
       "      <td>79</td>\n",
       "      <td>29055</td>\n",
       "    </tr>\n",
       "    <tr>\n",
       "      <th>1767</th>\n",
       "      <td>69</td>\n",
       "      <td>92724</td>\n",
       "    </tr>\n",
       "    <tr>\n",
       "      <th>1768</th>\n",
       "      <td>94</td>\n",
       "      <td>1363057</td>\n",
       "    </tr>\n",
       "    <tr>\n",
       "      <th>1769</th>\n",
       "      <td>61</td>\n",
       "      <td>390265</td>\n",
       "    </tr>\n",
       "    <tr>\n",
       "      <th>1770</th>\n",
       "      <td>77</td>\n",
       "      <td>111376</td>\n",
       "    </tr>\n",
       "    <tr>\n",
       "      <th>1771</th>\n",
       "      <td>86</td>\n",
       "      <td>333232</td>\n",
       "    </tr>\n",
       "    <tr>\n",
       "      <th>1772</th>\n",
       "      <td>82</td>\n",
       "      <td>52908</td>\n",
       "    </tr>\n",
       "    <tr>\n",
       "      <th>1773</th>\n",
       "      <td>81</td>\n",
       "      <td>9685</td>\n",
       "    </tr>\n",
       "    <tr>\n",
       "      <th>1774</th>\n",
       "      <td>69</td>\n",
       "      <td>1793</td>\n",
       "    </tr>\n",
       "  </tbody>\n",
       "</table>\n",
       "<p>1775 rows × 2 columns</p>\n",
       "</div>"
      ],
      "text/plain": [
       "      Metacritic  SteamSpyOwners\n",
       "0             88        13033334\n",
       "1             79         7621102\n",
       "2             96         5927504\n",
       "3             65        10489261\n",
       "4             71         5368650\n",
       "5             96         9901173\n",
       "6             88        15433570\n",
       "7             80         6400269\n",
       "8             87         6298399\n",
       "9             90         9795716\n",
       "10            90         5735062\n",
       "11            89         4473517\n",
       "12            89        15574539\n",
       "13            92        37878812\n",
       "14            95         8741499\n",
       "15            83        25833156\n",
       "16            81          940689\n",
       "17            72         3496958\n",
       "18            75          219883\n",
       "19            84          674354\n",
       "20            75          728339\n",
       "21            84          811736\n",
       "22            76          619832\n",
       "23            82           53087\n",
       "24            80          106175\n",
       "25            84          113708\n",
       "26            56           43403\n",
       "27            68           69408\n",
       "28            77          119806\n",
       "29            73          236024\n",
       "...          ...             ...\n",
       "1745          74            8609\n",
       "1746          63          194774\n",
       "1747          80           13989\n",
       "1748          73           10044\n",
       "1749          65           24571\n",
       "1750          76           27979\n",
       "1751          72           10402\n",
       "1752          74           32642\n",
       "1753          78            6457\n",
       "1754          57           42685\n",
       "1755          68          111735\n",
       "1756          50           10761\n",
       "1757          81           71202\n",
       "1758          53           17756\n",
       "1759          68            8250\n",
       "1760          63           12375\n",
       "1761          76           18114\n",
       "1762          77          178991\n",
       "1763          70           45734\n",
       "1764          40           13272\n",
       "1765          77           25288\n",
       "1766          79           29055\n",
       "1767          69           92724\n",
       "1768          94         1363057\n",
       "1769          61          390265\n",
       "1770          77          111376\n",
       "1771          86          333232\n",
       "1772          82           52908\n",
       "1773          81            9685\n",
       "1774          69            1793\n",
       "\n",
       "[1775 rows x 2 columns]"
      ]
     },
     "execution_count": 45,
     "metadata": {},
     "output_type": "execute_result"
    }
   ],
   "source": [
    "data15 = data15.drop([\"QueryID\",\"ResponseID\",\"QueryName\",\"ResponseName\",\"ReleaseDate\",\"Outcome\"], axis = 1)\n",
    "\n",
    "data15.drop([\"RecommendationCount\",\"ScreenshotCount\",\"AchievementCount\",\" PriceInitial \"], axis = 1)\n"
   ]
  },
  {
   "cell_type": "code",
   "execution_count": 46,
   "metadata": {},
   "outputs": [
    {
     "data": {
      "image/png": "[encoded data removed]",
      "text/plain": [
       "<Figure size 432x288 with 1 Axes>"
      ]
     },
     "metadata": {
      "needs_background": "light"
     },
     "output_type": "display_data"
    }
   ],
   "source": [
    "plt.scatter(data15[\"Metacritic\"],data15[\"SteamSpyOwners\"], s=5)\n",
    "plt.show()"
   ]
  },
  {
   "cell_type": "code",
   "execution_count": 47,
   "metadata": {},
   "outputs": [
    {
     "data": {
      "text/plain": [
       "KMeans(algorithm='auto', copy_x=True, init='k-means++', max_iter=300,\n",
       "    n_clusters=7, n_init=10, n_jobs=None, precompute_distances='auto',\n",
       "    random_state=None, tol=0.0001, verbose=0)"
      ]
     },
     "execution_count": 47,
     "metadata": {},
     "output_type": "execute_result"
    }
   ],
   "source": [
    "# create kmeans model and set k as 5\n",
    "model = KMeans(n_clusters=7)\n",
    "model.fit(data15)"
   ]
  },
  {
   "cell_type": "code",
   "execution_count": 48,
   "metadata": {},
   "outputs": [
    {
     "data": {
      "image/png": "[encoded data removed]",
      "text/plain": [
       "<Figure size 432x288 with 1 Axes>"
      ]
     },
     "metadata": {
      "needs_background": "light"
     },
     "output_type": "display_data"
    }
   ],
   "source": [
    "# get the resulting the cluster labels\n",
    "labels = model.labels_\n",
    "\n",
    "plt.scatter(data15[\"Metacritic\"],data15[\"SteamSpyOwners\"], c=labels, s=5)\n",
    "plt.title(\"K = 7\")\n",
    "plt.show()"
   ]
  },
  {
   "cell_type": "code",
   "execution_count": 49,
   "metadata": {},
   "outputs": [
    {
     "data": {
      "image/png": "[encoded data removed]",
      "text/plain": [
       "<Figure size 432x288 with 1 Axes>"
      ]
     },
     "metadata": {
      "needs_background": "light"
     },
     "output_type": "display_data"
    }
   ],
   "source": [
    "# define number of cluster range\n",
    "n_clusters_range = np.arange(1, 20)\n",
    "# store intra cluster variation value\n",
    "intra_cluster_var = []\n",
    "\n",
    "for k in n_clusters_range:\n",
    "    model = KMeans(n_clusters=k)\n",
    "    model.fit(data15)\n",
    "    \n",
    "    # append intra cluster variation, i.e. inertia attribute in the model\n",
    "    intra_cluster_var.append(model.inertia_)\n",
    "    \n",
    "plt.plot(n_clusters_range, intra_cluster_var)\n",
    "plt.xlabel(\"Number of Clusters\")\n",
    "plt.show()"
   ]
  },
  {
   "cell_type": "markdown",
   "metadata": {},
   "source": [
    "## Unsuccessfull Principal Component Analysis\n"
   ]
  },
  {
   "cell_type": "code",
   "execution_count": 50,
   "metadata": {},
   "outputs": [],
   "source": [
    "from sklearn.decomposition import PCA"
   ]
  },
  {
   "cell_type": "code",
   "execution_count": 51,
   "metadata": {},
   "outputs": [],
   "source": [
    "data17=data16"
   ]
  },
  {
   "cell_type": "code",
   "execution_count": 52,
   "metadata": {},
   "outputs": [],
   "source": [
    "data16=data17"
   ]
  },
  {
   "cell_type": "code",
   "execution_count": 53,
   "metadata": {},
   "outputs": [
    {
     "data": {
      "text/html": [
       "<div>\n",
       "<style scoped>\n",
       "    .dataframe tbody tr th:only-of-type {\n",
       "        vertical-align: middle;\n",
       "    }\n",
       "\n",
       "    .dataframe tbody tr th {\n",
       "        vertical-align: top;\n",
       "    }\n",
       "\n",
       "    .dataframe thead th {\n",
       "        text-align: right;\n",
       "    }\n",
       "</style>\n",
       "<table border=\"1\" class=\"dataframe\">\n",
       "  <thead>\n",
       "    <tr style=\"text-align: right;\">\n",
       "      <th></th>\n",
       "      <th>QueryID</th>\n",
       "      <th>ResponseID</th>\n",
       "      <th>QueryName</th>\n",
       "      <th>ResponseName</th>\n",
       "      <th>ReleaseDate</th>\n",
       "      <th>Metacritic</th>\n",
       "      <th>RecommendationCount</th>\n",
       "      <th>ScreenshotCount</th>\n",
       "      <th>SteamSpyOwners</th>\n",
       "      <th>AchievementCount</th>\n",
       "      <th>PriceInitial</th>\n",
       "      <th>Outcome</th>\n",
       "    </tr>\n",
       "  </thead>\n",
       "  <tbody>\n",
       "    <tr>\n",
       "      <th>0</th>\n",
       "      <td>10</td>\n",
       "      <td>10</td>\n",
       "      <td>Counter-Strike</td>\n",
       "      <td>Counter-Strike</td>\n",
       "      <td>Nov 1 2000</td>\n",
       "      <td>88</td>\n",
       "      <td>68991</td>\n",
       "      <td>13</td>\n",
       "      <td>13033334</td>\n",
       "      <td>0</td>\n",
       "      <td>9.99</td>\n",
       "      <td>1</td>\n",
       "    </tr>\n",
       "    <tr>\n",
       "      <th>1</th>\n",
       "      <td>30</td>\n",
       "      <td>30</td>\n",
       "      <td>Day of Defeat</td>\n",
       "      <td>Day of Defeat</td>\n",
       "      <td>May 1 2003</td>\n",
       "      <td>79</td>\n",
       "      <td>2319</td>\n",
       "      <td>5</td>\n",
       "      <td>7621102</td>\n",
       "      <td>0</td>\n",
       "      <td>4.99</td>\n",
       "      <td>1</td>\n",
       "    </tr>\n",
       "    <tr>\n",
       "      <th>2</th>\n",
       "      <td>70</td>\n",
       "      <td>70</td>\n",
       "      <td>Half-Life</td>\n",
       "      <td>Half-Life</td>\n",
       "      <td>Nov 8 1998</td>\n",
       "      <td>96</td>\n",
       "      <td>12486</td>\n",
       "      <td>11</td>\n",
       "      <td>5927504</td>\n",
       "      <td>0</td>\n",
       "      <td>9.99</td>\n",
       "      <td>1</td>\n",
       "    </tr>\n",
       "    <tr>\n",
       "      <th>3</th>\n",
       "      <td>80</td>\n",
       "      <td>80</td>\n",
       "      <td>Counter-Strike: Condition Zero</td>\n",
       "      <td>Counter-Strike: Condition Zero</td>\n",
       "      <td>Mar 1 2004</td>\n",
       "      <td>65</td>\n",
       "      <td>7067</td>\n",
       "      <td>8</td>\n",
       "      <td>10489261</td>\n",
       "      <td>0</td>\n",
       "      <td>9.99</td>\n",
       "      <td>1</td>\n",
       "    </tr>\n",
       "    <tr>\n",
       "      <th>4</th>\n",
       "      <td>130</td>\n",
       "      <td>130</td>\n",
       "      <td>Half-Life: Blue Shift</td>\n",
       "      <td>Half-Life: Blue Shift</td>\n",
       "      <td>Jun 1 2001</td>\n",
       "      <td>71</td>\n",
       "      <td>2219</td>\n",
       "      <td>5</td>\n",
       "      <td>5368650</td>\n",
       "      <td>0</td>\n",
       "      <td>4.99</td>\n",
       "      <td>1</td>\n",
       "    </tr>\n",
       "  </tbody>\n",
       "</table>\n",
       "</div>"
      ],
      "text/plain": [
       "   QueryID  ResponseID                       QueryName  \\\n",
       "0       10          10                  Counter-Strike   \n",
       "1       30          30                   Day of Defeat   \n",
       "2       70          70                       Half-Life   \n",
       "3       80          80  Counter-Strike: Condition Zero   \n",
       "4      130         130           Half-Life: Blue Shift   \n",
       "\n",
       "                     ResponseName ReleaseDate  Metacritic  \\\n",
       "0                  Counter-Strike  Nov 1 2000          88   \n",
       "1                   Day of Defeat  May 1 2003          79   \n",
       "2                       Half-Life  Nov 8 1998          96   \n",
       "3  Counter-Strike: Condition Zero  Mar 1 2004          65   \n",
       "4           Half-Life: Blue Shift  Jun 1 2001          71   \n",
       "\n",
       "   RecommendationCount  ScreenshotCount  SteamSpyOwners  AchievementCount  \\\n",
       "0                68991               13        13033334                 0   \n",
       "1                 2319                5         7621102                 0   \n",
       "2                12486               11         5927504                 0   \n",
       "3                 7067                8        10489261                 0   \n",
       "4                 2219                5         5368650                 0   \n",
       "\n",
       "    PriceInitial   Outcome  \n",
       "0            9.99        1  \n",
       "1            4.99        1  \n",
       "2            9.99        1  \n",
       "3            9.99        1  \n",
       "4            4.99        1  "
      ]
     },
     "execution_count": 53,
     "metadata": {},
     "output_type": "execute_result"
    }
   ],
   "source": [
    "data16.head()"
   ]
  },
  {
   "cell_type": "code",
   "execution_count": 54,
   "metadata": {},
   "outputs": [
    {
     "data": {
      "text/html": [
       "<div>\n",
       "<style scoped>\n",
       "    .dataframe tbody tr th:only-of-type {\n",
       "        vertical-align: middle;\n",
       "    }\n",
       "\n",
       "    .dataframe tbody tr th {\n",
       "        vertical-align: top;\n",
       "    }\n",
       "\n",
       "    .dataframe thead th {\n",
       "        text-align: right;\n",
       "    }\n",
       "</style>\n",
       "<table border=\"1\" class=\"dataframe\">\n",
       "  <thead>\n",
       "    <tr style=\"text-align: right;\">\n",
       "      <th></th>\n",
       "      <th>Metacritic</th>\n",
       "      <th>RecommendationCount</th>\n",
       "      <th>ScreenshotCount</th>\n",
       "      <th>SteamSpyOwners</th>\n",
       "      <th>AchievementCount</th>\n",
       "      <th>PriceInitial</th>\n",
       "      <th>Outcome</th>\n",
       "    </tr>\n",
       "  </thead>\n",
       "  <tbody>\n",
       "    <tr>\n",
       "      <th>0</th>\n",
       "      <td>88</td>\n",
       "      <td>68991</td>\n",
       "      <td>13</td>\n",
       "      <td>13033334</td>\n",
       "      <td>0</td>\n",
       "      <td>9.99</td>\n",
       "      <td>1</td>\n",
       "    </tr>\n",
       "    <tr>\n",
       "      <th>1</th>\n",
       "      <td>79</td>\n",
       "      <td>2319</td>\n",
       "      <td>5</td>\n",
       "      <td>7621102</td>\n",
       "      <td>0</td>\n",
       "      <td>4.99</td>\n",
       "      <td>1</td>\n",
       "    </tr>\n",
       "    <tr>\n",
       "      <th>2</th>\n",
       "      <td>96</td>\n",
       "      <td>12486</td>\n",
       "      <td>11</td>\n",
       "      <td>5927504</td>\n",
       "      <td>0</td>\n",
       "      <td>9.99</td>\n",
       "      <td>1</td>\n",
       "    </tr>\n",
       "    <tr>\n",
       "      <th>3</th>\n",
       "      <td>65</td>\n",
       "      <td>7067</td>\n",
       "      <td>8</td>\n",
       "      <td>10489261</td>\n",
       "      <td>0</td>\n",
       "      <td>9.99</td>\n",
       "      <td>1</td>\n",
       "    </tr>\n",
       "    <tr>\n",
       "      <th>4</th>\n",
       "      <td>71</td>\n",
       "      <td>2219</td>\n",
       "      <td>5</td>\n",
       "      <td>5368650</td>\n",
       "      <td>0</td>\n",
       "      <td>4.99</td>\n",
       "      <td>1</td>\n",
       "    </tr>\n",
       "  </tbody>\n",
       "</table>\n",
       "</div>"
      ],
      "text/plain": [
       "   Metacritic  RecommendationCount  ScreenshotCount  SteamSpyOwners  \\\n",
       "0          88                68991               13        13033334   \n",
       "1          79                 2319                5         7621102   \n",
       "2          96                12486               11         5927504   \n",
       "3          65                 7067                8        10489261   \n",
       "4          71                 2219                5         5368650   \n",
       "\n",
       "   AchievementCount   PriceInitial   Outcome  \n",
       "0                 0            9.99        1  \n",
       "1                 0            4.99        1  \n",
       "2                 0            9.99        1  \n",
       "3                 0            9.99        1  \n",
       "4                 0            4.99        1  "
      ]
     },
     "execution_count": 54,
     "metadata": {},
     "output_type": "execute_result"
    }
   ],
   "source": [
    "data16 = data16.drop([\"QueryID\",\"ResponseID\",\"QueryName\",\"ResponseName\",\"ReleaseDate\"], axis = 1)\n",
    "data16.head()"
   ]
  },
  {
   "cell_type": "code",
   "execution_count": 55,
   "metadata": {},
   "outputs": [],
   "source": [
    "features2 = data16.drop([\"Outcome\"], axis=1).values\n",
    "labels2 = data16[\"Outcome\"].values"
   ]
  },
  {
   "cell_type": "code",
   "execution_count": 56,
   "metadata": {},
   "outputs": [
    {
     "data": {
      "text/plain": [
       "array([[ 1.23225276e+07, -5.22758251e+04],\n",
       "       [ 6.90990823e+06, -6.81497725e+04],\n",
       "       [ 5.21648024e+06, -4.20883906e+04],\n",
       "       ...,\n",
       "       [-6.57963417e+05,  1.71063250e+03],\n",
       "       [-7.01193899e+05,  1.11633503e+03],\n",
       "       [-7.09086011e+05,  1.14140258e+03]])"
      ]
     },
     "execution_count": 56,
     "metadata": {},
     "output_type": "execute_result"
    }
   ],
   "source": [
    "# for visualization purposes\n",
    "# we need 2 dimensions\n",
    "decomp = PCA(n_components=2)\n",
    "\n",
    "# find principal components and \n",
    "# transform the original data\n",
    "reduced_features = decomp.fit_transform(features2)\n",
    "reduced_features"
   ]
  },
  {
   "cell_type": "code",
   "execution_count": 57,
   "metadata": {},
   "outputs": [
    {
     "data": {
      "image/png": "[encoded data removed]",
      "text/plain": [
       "<Figure size 432x288 with 1 Axes>"
      ]
     },
     "metadata": {
      "needs_background": "light"
     },
     "output_type": "display_data"
    }
   ],
   "source": [
    "plt.scatter(reduced_features[:, 0], reduced_features[:, 1], c=np.where(labels == 0, \"c\", \"m\"), s=10)\n",
    "plt.show()"
   ]
  },
  {
   "cell_type": "code",
   "execution_count": 58,
   "metadata": {},
   "outputs": [
    {
     "data": {
      "text/plain": [
       "KMeans(algorithm='auto', copy_x=True, init='k-means++', max_iter=300,\n",
       "    n_clusters=2, n_init=10, n_jobs=None, precompute_distances='auto',\n",
       "    random_state=None, tol=0.0001, verbose=0)"
      ]
     },
     "execution_count": 58,
     "metadata": {},
     "output_type": "execute_result"
    }
   ],
   "source": [
    "# create the clustering model\n",
    "model = KMeans(n_clusters=2)\n",
    "# fit the transformed data\n",
    "model.fit(reduced_features)"
   ]
  },
  {
   "cell_type": "code",
   "execution_count": 59,
   "metadata": {},
   "outputs": [
    {
     "data": {
      "image/png": "[encoded data removed]",
      "text/plain": [
       "<Figure size 1080x360 with 2 Axes>"
      ]
     },
     "metadata": {
      "needs_background": "light"
     },
     "output_type": "display_data"
    }
   ],
   "source": [
    "fig, axs = plt.subplots(1, 2, figsize=(15, 5), sharey=True)\n",
    "\n",
    "axs[0].scatter(reduced_features[:, 0], reduced_features[:, 1], c=np.where(labels == 0, \"c\", \"m\"), s=10)\n",
    "axs[0].set_title(\"Original Dataset with PCA\")\n",
    "\n",
    "# get cluster labels\n",
    "cluster_labels = model.labels_\n",
    "\n",
    "# plots data points with cluster label color encodings\n",
    "axs[1].scatter(reduced_features[:, 0], reduced_features[:, 1], c=np.where(model.labels_ == 0, \"c\", \"m\"), s=10)\n",
    "axs[1].set_title(\"PCA Transformed Data with K-Means\")\n",
    "plt.show()"
   ]
  },
  {
   "cell_type": "code",
   "execution_count": 60,
   "metadata": {},
   "outputs": [],
   "source": [
    "# import homogeneity score\n",
    "from sklearn.metrics import homogeneity_score"
   ]
  },
  {
   "cell_type": "code",
   "execution_count": 61,
   "metadata": {},
   "outputs": [
    {
     "data": {
      "text/plain": [
       "0.006247509857142705"
      ]
     },
     "execution_count": 61,
     "metadata": {},
     "output_type": "execute_result"
    }
   ],
   "source": [
    "# returns a pathetic score\n",
    "homogeneity_score(labels, cluster_labels)"
   ]
  },
  {
   "cell_type": "code",
   "execution_count": null,
   "metadata": {},
   "outputs": [],
   "source": []
  },
  {
   "cell_type": "code",
   "execution_count": null,
   "metadata": {},
   "outputs": [],
   "source": []
  }
 ],
 "metadata": {
  "kernelspec": {
   "display_name": "Python 3",
   "language": "python",
   "name": "python3"
  },
  "language_info": {
   "codemirror_mode": {
    "name": "ipython",
    "version": 3
   },
   "file_extension": ".py",
   "mimetype": "text/x-python",
   "name": "python",
   "nbconvert_exporter": "python",
   "pygments_lexer": "ipython3",
   "version": "3.7.2"
  }
 },
 "nbformat": 4,
 "nbformat_minor": 2
}
